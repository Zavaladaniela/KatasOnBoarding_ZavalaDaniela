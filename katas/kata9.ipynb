{
 "cells": [
  {
   "cell_type": "markdown",
   "metadata": {},
   "source": [
    "# Ejercicio: Uso de funciones en Python"
   ]
  },
  {
   "cell_type": "markdown",
   "metadata": {},
   "source": [
    "## Ejercicio 1: Trabajar con argumentos en funciones"
   ]
  },
  {
   "cell_type": "markdown",
   "metadata": {},
   "source": [
    "### Comienza por crear una función que necesite tres lecturas de combustible y devuelva un informe:"
   ]
  },
  {
   "cell_type": "code",
   "execution_count": 3,
   "metadata": {},
   "outputs": [],
   "source": [
    "def reporte(tanquePrincipal, tanqueExterno, tanqueHidrogeno):\n",
    "    total = (tanquePrincipal + tanqueExterno + tanqueHidrogeno) / 3\n",
    "    return f\"\"\"Reporte Completo:\n",
    "    Total : {total}%\n",
    "    Tanque principal: {tanquePrincipal}%\n",
    "    Tanque externo: {tanqueExterno}%\n",
    "    Tanque hidrogeno: {tanqueHidrogeno}% \n",
    "    \"\"\""
   ]
  },
  {
   "cell_type": "markdown",
   "metadata": {},
   "source": [
    "### Ahora que hemos definido la función de informes, vamos a comprobarlo. Para esta misión, los tanques no están llenos"
   ]
  },
  {
   "cell_type": "code",
   "execution_count": 4,
   "metadata": {},
   "outputs": [
    {
     "name": "stdout",
     "output_type": "stream",
     "text": [
      "Reporte Completo:\n",
      "    Total : 51.666666666666664%\n",
      "    Tanque principal: 60%\n",
      "    Tanque externo: 55%\n",
      "    Tanque hidrogeno: 40% \n",
      "    \n"
     ]
    }
   ],
   "source": [
    "print(reporte(60, 55, 40))"
   ]
  },
  {
   "cell_type": "markdown",
   "metadata": {},
   "source": [
    "### En lugar de simplemente crear el informe, la función también está calculando el promedio. Mejora la legibilidad extrayendo el cálculo promedio de la función en una nueva función para que el promedio se pueda hacer de forma independiente:"
   ]
  },
  {
   "cell_type": "code",
   "execution_count": 5,
   "metadata": {},
   "outputs": [
    {
     "data": {
      "text/plain": [
       "51.666666666666664"
      ]
     },
     "execution_count": 5,
     "metadata": {},
     "output_type": "execute_result"
    }
   ],
   "source": [
    "def promedio(values):\n",
    "    total = sum(values)\n",
    "    items = len(values)\n",
    "    return total / items\n",
    "\n",
    "# Test the averaging function with a list of integers:\n",
    "promedio([60, 55, 40]) "
   ]
  },
  {
   "cell_type": "markdown",
   "metadata": {},
   "source": [
    "### Ahora actualiza la función de informes para llamando a la nueva función del promedio:"
   ]
  },
  {
   "cell_type": "code",
   "execution_count": 6,
   "metadata": {},
   "outputs": [
    {
     "name": "stdout",
     "output_type": "stream",
     "text": [
      "Reporte Completo:\n",
      "    Total Average: 68.66666666666667%\n",
      "    Main tank: 90%\n",
      "    External tank: 56%\n",
      "    Hydrogen tank: 60% \n",
      "    \n"
     ]
    }
   ],
   "source": [
    "def reporte(tanquePrincipal, tanqueExterno, tanqueHidrogeno):\n",
    "    return f\"\"\"Reporte Completo:\n",
    "    Total Average: {promedio([tanquePrincipal, tanqueExterno, tanqueHidrogeno])}%\n",
    "    Main tank: {tanquePrincipal}%\n",
    "    External tank: {tanqueExterno}%\n",
    "    Hydrogen tank: {tanqueHidrogeno}% \n",
    "    \"\"\"\n",
    "\n",
    "# Call the updated function again with different values\n",
    "print(reporte(90, 56, 60))"
   ]
  },
  {
   "cell_type": "markdown",
   "metadata": {},
   "source": [
    "## Ejercicio 2: Trabajo con argumentos de palabra clave"
   ]
  },
  {
   "cell_type": "markdown",
   "metadata": {},
   "source": [
    "### Ejercicio : Trabajar con argumentos de palabras clave en funciones\n",
    "En este ejercicio, construirás un informe de cohete que requiere varias piezas de información, como el tiempo hasta el destino, el combustible a la izquierda y el nombre del destino. Comienza por crear una función que creará un informe preciso de la misión:"
   ]
  },
  {
   "cell_type": "code",
   "execution_count": 7,
   "metadata": {},
   "outputs": [
    {
     "name": "stdout",
     "output_type": "stream",
     "text": [
      "\n",
      "    Mission to Moon\n",
      "    Tiempo total del viaje: 65 minutos\n",
      "    Combustible total: 500000 galones\n",
      "    \n"
     ]
    }
   ],
   "source": [
    "def reporteMision(lanzamiento, tiempoVuelo, destino, tanqueExterno, tanquePrincipal):\n",
    "    return f\"\"\"\n",
    "    Mission to {destino}\n",
    "    Tiempo total del viaje: {lanzamiento + tiempoVuelo} minutos\n",
    "    Combustible total: {tanqueExterno + tanquePrincipal} galones\n",
    "    \"\"\"\n",
    "\n",
    "print(reporteMision(14, 51, \"Moon\", 200000, 300000))"
   ]
  },
  {
   "cell_type": "markdown",
   "metadata": {},
   "source": [
    "### La función es problemática porque no se puede adaptar para minutos adicionales o tanques adicionales de combustible. Hazlo más flexible permitiendo cualquier número de pasos basados en el tiempo y cualquier número de tanques. En lugar de usar *args y **kwargs, aprovecha el hecho de que puedes usar cualquier nombre que desees. Asegurate que la función sea más legible mediante el uso de nombres de variables que están asociados con las entradas, como *minutes y **fuel_reservoirs:"
   ]
  },
  {
   "cell_type": "code",
   "execution_count": 8,
   "metadata": {},
   "outputs": [
    {
     "name": "stdout",
     "output_type": "stream",
     "text": [
      "\n",
      "    Mision a Moon\n",
      "    Tiempo total de viaje: 76 minutos\n",
      "    Total combustible: 500000\n",
      "    \n"
     ]
    }
   ],
   "source": [
    "def reporteMision(destino, *minutos, **combustibleReserva):\n",
    "    return f\"\"\"\n",
    "    Mision a {destino}\n",
    "    Tiempo total de viaje: {sum(minutos)} minutos\n",
    "    Total combustible: {sum(combustibleReserva.values())}\n",
    "    \"\"\"\n",
    "\n",
    "print(reporteMision(\"Moon\", 10, 15, 51, main=300000, external=200000))"
   ]
  },
  {
   "cell_type": "markdown",
   "metadata": {},
   "source": [
    "### Debido a que el combustible que queda en los tanques es específico de cada tanque, actualiza la función para usar el nombre de cada tanque en el informe:"
   ]
  },
  {
   "cell_type": "code",
   "execution_count": 9,
   "metadata": {},
   "outputs": [
    {
     "name": "stdout",
     "output_type": "stream",
     "text": [
      "\n",
      "    Mision a Moon\n",
      "    Tiempo total de viaje: 74 minutos\n",
      "    Combustible total: 500000\n",
      "    principal tanque --> 300000 derecho galones\n",
      "externo tanque --> 200000 derecho galones\n",
      "\n"
     ]
    }
   ],
   "source": [
    "def reporteMision(destino, *minutos, **combustibleReserva):\n",
    "    reportePrincipal = f\"\"\"\n",
    "    Mision a {destino}\n",
    "    Tiempo total de viaje: {sum(minutos)} minutos\n",
    "    Combustible total: {sum(combustibleReserva.values())}\n",
    "    \"\"\"\n",
    "    for nombre, gallons in combustibleReserva.items():\n",
    "        reportePrincipal += f\"{nombre} tanque --> {gallons} derecho galones\\n\"\n",
    "    return reportePrincipal\n",
    "\n",
    "print(reporteMision(\"Moon\", 8, 11, 55, principal=300000, externo=200000))"
   ]
  }
 ],
 "metadata": {
  "interpreter": {
   "hash": "5322818cae43cf6468214953b049884cb6ca7e8071f01fca2a6d6ce521d192bd"
  },
  "kernelspec": {
   "display_name": "Python 3.10.2 64-bit",
   "language": "python",
   "name": "python3"
  },
  "language_info": {
   "codemirror_mode": {
    "name": "ipython",
    "version": 3
   },
   "file_extension": ".py",
   "mimetype": "text/x-python",
   "name": "python",
   "nbconvert_exporter": "python",
   "pygments_lexer": "ipython3",
   "version": "3.10.2"
  },
  "orig_nbformat": 4
 },
 "nbformat": 4,
 "nbformat_minor": 2
}
